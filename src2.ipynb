{
 "cells": [
  {
   "cell_type": "code",
   "execution_count": 1,
   "id": "7e849e27",
   "metadata": {},
   "outputs": [],
   "source": [
    "import requests \n",
    "import csv \n",
    "from bs4 import BeautifulSoup \n",
    "from itertools import zip_longest\n",
    "import pandas as pd \n",
    "import numpy as np \n"
   ]
  },
  {
   "cell_type": "code",
   "execution_count": 2,
   "id": "96b62f47",
   "metadata": {},
   "outputs": [],
   "source": [
    "\n",
    "book_title = []\n",
    "book_authour  = []\n",
    "book_publisher  = []\n",
    "\n",
    "r = requests.get('https://b-ok.africa/s/social%20media?order=popular')\n",
    "\n",
    "html = r.content\n",
    "soup = BeautifulSoup(html,'lxml')"
   ]
  },
  {
   "cell_type": "code",
   "execution_count": 3,
   "id": "3ad80540",
   "metadata": {},
   "outputs": [],
   "source": [
    "titles = soup.find_all('h3',{'itemprop':'name'})\n",
    "authors = soup.find_all('div',{'class':'authors'})"
   ]
  },
  {
   "cell_type": "code",
   "execution_count": 4,
   "id": "0bad61a7",
   "metadata": {},
   "outputs": [],
   "source": [
    "for i in range(len(titles)):\n",
    "    book_title.append(titles[i].text)\n",
    "    book_authour.append(authors[i].text)\n"
   ]
  },
  {
   "cell_type": "code",
   "execution_count": 10,
   "id": "2703e803",
   "metadata": {},
   "outputs": [
    {
     "name": "stdout",
     "output_type": "stream",
     "text": [
      "50\n"
     ]
    }
   ],
   "source": [
    "print(len(book_authour))"
   ]
  },
  {
   "cell_type": "code",
   "execution_count": 11,
   "id": "75fcc8ba",
   "metadata": {},
   "outputs": [],
   "source": [
    "df = pd.DataFrame({'title':book_title , 'authour' : book_authour})"
   ]
  },
  {
   "cell_type": "code",
   "execution_count": 6,
   "id": "56bbc15f",
   "metadata": {},
   "outputs": [],
   "source": [
    "# file_list = [book_title , book_authour]\n",
    "# exp = list(zip_longest(*file_list))\n",
    "# with open('hello3.csv','w') as my_file:\n",
    "#     wr = csv.writer(my_file)\n",
    "#     wr.writerow(['book title', 'book author'])\n",
    "#     wr.writerows(exp)"
   ]
  },
  {
   "cell_type": "code",
   "execution_count": 13,
   "id": "484f51c6",
   "metadata": {},
   "outputs": [
    {
     "data": {
      "text/plain": [
       "0    500 Social Media Marketing Tips: Essential Adv...\n",
       "1    The Power of Visual Storytelling: How to Use V...\n",
       "2    Social Media Strategy: Marketing, Advertising,...\n",
       "3    Social Media Marketing Mastery (2 Manuscripts ...\n",
       "4    Storytelling: Manipulation of the Audience - H...\n",
       "Name: title, dtype: object"
      ]
     },
     "execution_count": 13,
     "metadata": {},
     "output_type": "execute_result"
    }
   ],
   "source": [
    "df['title'] = df.title.str.replace('\\n' ,'')\n",
    "df['title'].head()"
   ]
  },
  {
   "cell_type": "code",
   "execution_count": 15,
   "id": "d5996e1d",
   "metadata": {},
   "outputs": [
    {
     "data": {
      "text/html": [
       "<div>\n",
       "<style scoped>\n",
       "    .dataframe tbody tr th:only-of-type {\n",
       "        vertical-align: middle;\n",
       "    }\n",
       "\n",
       "    .dataframe tbody tr th {\n",
       "        vertical-align: top;\n",
       "    }\n",
       "\n",
       "    .dataframe thead th {\n",
       "        text-align: right;\n",
       "    }\n",
       "</style>\n",
       "<table border=\"1\" class=\"dataframe\">\n",
       "  <thead>\n",
       "    <tr style=\"text-align: right;\">\n",
       "      <th></th>\n",
       "      <th>title</th>\n",
       "      <th>authour</th>\n",
       "    </tr>\n",
       "    <tr>\n",
       "      <th>index</th>\n",
       "      <th></th>\n",
       "      <th></th>\n",
       "    </tr>\n",
       "  </thead>\n",
       "  <tbody>\n",
       "    <tr>\n",
       "      <th>0</th>\n",
       "      <td>500 Social Media Marketing Tips: Essential Adv...</td>\n",
       "      <td>Andrew Macarthy</td>\n",
       "    </tr>\n",
       "    <tr>\n",
       "      <th>1</th>\n",
       "      <td>The Power of Visual Storytelling: How to Use V...</td>\n",
       "      <td>Ekaterina Walter, Jessica Gioglio</td>\n",
       "    </tr>\n",
       "    <tr>\n",
       "      <th>2</th>\n",
       "      <td>Social Media Strategy: Marketing, Advertising,...</td>\n",
       "      <td>Keith Quesenberry</td>\n",
       "    </tr>\n",
       "    <tr>\n",
       "      <th>3</th>\n",
       "      <td>Social Media Marketing Mastery (2 Manuscripts ...</td>\n",
       "      <td>Clyne Gary</td>\n",
       "    </tr>\n",
       "    <tr>\n",
       "      <th>4</th>\n",
       "      <td>Storytelling: Manipulation of the Audience - H...</td>\n",
       "      <td>Daniel Anderson</td>\n",
       "    </tr>\n",
       "  </tbody>\n",
       "</table>\n",
       "</div>"
      ],
      "text/plain": [
       "                                                   title  \\\n",
       "index                                                      \n",
       "0      500 Social Media Marketing Tips: Essential Adv...   \n",
       "1      The Power of Visual Storytelling: How to Use V...   \n",
       "2      Social Media Strategy: Marketing, Advertising,...   \n",
       "3      Social Media Marketing Mastery (2 Manuscripts ...   \n",
       "4      Storytelling: Manipulation of the Audience - H...   \n",
       "\n",
       "                                 authour  \n",
       "index                                     \n",
       "0                        Andrew Macarthy  \n",
       "1      Ekaterina Walter, Jessica Gioglio  \n",
       "2                      Keith Quesenberry  \n",
       "3                             Clyne Gary  \n",
       "4                        Daniel Anderson  "
      ]
     },
     "execution_count": 15,
     "metadata": {},
     "output_type": "execute_result"
    }
   ],
   "source": [
    "df.rename_axis('index' , axis = 'rows' , inplace = True)\n",
    "df.head()"
   ]
  },
  {
   "cell_type": "code",
   "execution_count": 17,
   "id": "2d00fe64",
   "metadata": {},
   "outputs": [],
   "source": [
    "df.to_csv('books.csv')"
   ]
  },
  {
   "cell_type": "code",
   "execution_count": 22,
   "id": "b2af03be",
   "metadata": {},
   "outputs": [
    {
     "data": {
      "text/plain": [
       "authour\n",
       "Andrew Macarthy                                                                                                                      2\n",
       "ALLAN KANE                                                                                                                           1\n",
       "Nick Couldry                                                                                                                         1\n",
       "Kipp Bodnar, Jeffrey L. Cohen                                                                                                        1\n",
       "Lammenett, Erwin                                                                                                                     1\n",
       "Lucinda L Austin, Yan Jin                                                                                                            1\n",
       "Luke Sloan, Anabel Quan-Haase                                                                                                        1\n",
       "Marie D. Jones, Larry Flaxman                                                                                                        1\n",
       "Mathew, Jack [Mathew, Jack]                                                                                                          1\n",
       "Mehmet Kaya, Reda Alhajj                                                                                                             1\n",
       "Michelle Krasniak, Jan Zimmerman, Deborah Ng                                                                                         1\n",
       "Mill, Alfred                                                                                                                         1\n",
       "Miller, Dave                                                                                                                         1\n",
       "Nripendra P. Rana, Emma L. Slade, Ganesh Prasad Sahu, Hatice Kizgin, Nitish Singh, Bidit Dey, Anabel Gutierrez, Yogesh K. Dwivedi    1\n",
       "Karen J Freberg                                                                                                                      1\n",
       "P.W. Singer, Emerson T. Brooking                                                                                                     1\n",
       "Preace, Jeremy                                                                                                                       1\n",
       "Russell, Matthew A., Klassen, Mikhail                                                                                                1\n",
       "Samuel  C .  Woolley, Philip N. Howard                                                                                               1\n",
       "Schaffner, Adam                                                                                                                      1\n",
       "Shiv Singh, Stephanie Diamond                                                                                                        1\n",
       "Siddhartha Chatterjee, Michal Krystyanczuk                                                                                           1\n",
       "Stanley Baran                                                                                                                        1\n",
       "The Sitters Australia & Siân Evans & Justine Day [Australia, The Sitters & Evans, Siân & Day, Justine]                               1\n",
       "Keith Quesenberry                                                                                                                    1\n",
       "Jenkins, Alex                                                                                                                        1\n",
       "Aliza Licht                                                                                                                          1\n",
       "Ekaterina Walter, Jessica Gioglio                                                                                                    1\n",
       "Ann Handley, C.C. Chapman                                                                                                            1\n",
       "Chen, John                                                                                                                           1\n",
       "Claire Diaz-Ortiz                                                                                                                    1\n",
       "Clyne Gary                                                                                                                           1\n",
       "Dan S. Kennedy, Kim Walsh-Phillips                                                                                                   1\n",
       "Daniel Anderson                                                                                                                      1\n",
       "David Meerman Scott                                                                                                                  1\n",
       "Dawn McGruer                                                                                                                         1\n",
       "Digital Business Academy [Digital Business Academy]                                                                                  1\n",
       "Gabor Szabo, Gungor Polatkan, P. Oscar Boykin, Antonios Chalkiopoulos                                                                1\n",
       "Jason McDonald                                                                                                                       1\n",
       "Gary Vaynerchuk                                                                                                                      1\n",
       "Gohar F. Khan                                                                                                                        1\n",
       "Grant Kennedy                                                                                                                        1\n",
       "Guy Kawasaki, Peg Fitzpatrick                                                                                                        1\n",
       "Hassan, Robert, Sutherland, Thomas                                                                                                   1\n",
       "Hennessy, Brittany                                                                                                                   1\n",
       "Jack Mathew [Mathew, Jack]                                                                                                           1\n",
       "Jan Zimmerman, Deborah Ng                                                                                                            1\n",
       "Jaron Lanier                                                                                                                         1\n",
       "Veronica Gentili                                                                                                                     1\n",
       "dtype: int64"
      ]
     },
     "execution_count": 22,
     "metadata": {},
     "output_type": "execute_result"
    }
   ],
   "source": [
    "df.groupby('authour').size().sort_values(ascending = False)"
   ]
  },
  {
   "cell_type": "code",
   "execution_count": null,
   "id": "a30335dc",
   "metadata": {},
   "outputs": [],
   "source": []
  }
 ],
 "metadata": {
  "kernelspec": {
   "display_name": "Python 3 (ipykernel)",
   "language": "python",
   "name": "python3"
  },
  "language_info": {
   "codemirror_mode": {
    "name": "ipython",
    "version": 3
   },
   "file_extension": ".py",
   "mimetype": "text/x-python",
   "name": "python",
   "nbconvert_exporter": "python",
   "pygments_lexer": "ipython3",
   "version": "3.10.5"
  }
 },
 "nbformat": 4,
 "nbformat_minor": 5
}
